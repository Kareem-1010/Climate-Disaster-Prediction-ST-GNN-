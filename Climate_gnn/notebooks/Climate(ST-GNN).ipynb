{
  "cells": [
    {
      "cell_type": "markdown",
      "metadata": {
        "id": "view-in-github",
        "colab_type": "text"
      },
      "source": [
        "<a href=\"https://colab.research.google.com/github/Kareem-1010/Climate-Disaster-Prediction-ST-GNN-/blob/main/Climate_gnn/notebooks/Climate(ST-GNN).ipynb\" target=\"_parent\"><img src=\"https://colab.research.google.com/assets/colab-badge.svg\" alt=\"Open In Colab\"/></a>"
      ]
    },
    {
      "cell_type": "code",
      "execution_count": 2,
      "id": "c463a333-ebe7-4a65-8afd-66c0bf2cc775",
      "metadata": {
        "colab": {
          "base_uri": "https://localhost:8080/"
        },
        "id": "c463a333-ebe7-4a65-8afd-66c0bf2cc775",
        "outputId": "109f587f-5d98-4ec8-a1f7-ac937f917d3c"
      },
      "outputs": [
        {
          "output_type": "stream",
          "name": "stdout",
          "text": [
            "Mounted at /content/drive\n",
            "/bin/bash: line 1: nvidia-smi: command not found\n",
            "Python: 3.11.13 (main, Jun  4 2025, 08:57:29) [GCC 11.4.0]\n",
            "PyTorch: 2.6.0+cu124\n",
            "CUDA available: False\n",
            "Torch CUDA version: 12.4\n"
          ]
        }
      ],
      "source": [
        "# === Cell 1: Mount Drive & check GPU/PyTorch ===\n",
        "from google.colab import drive\n",
        "drive.mount('/content/drive')   # allow saving files to your Drive\n",
        "\n",
        "# quick system checks\n",
        "!nvidia-smi || true\n",
        "import torch, sys\n",
        "print(\"Python:\", sys.version.splitlines()[0])\n",
        "print(\"PyTorch:\", torch.__version__)\n",
        "print(\"CUDA available:\", torch.cuda.is_available())\n",
        "print(\"Torch CUDA version:\", torch.version.cuda)"
      ]
    },
    {
      "cell_type": "code",
      "source": [],
      "metadata": {
        "id": "eH1aoD6d0nx5"
      },
      "id": "eH1aoD6d0nx5",
      "execution_count": null,
      "outputs": []
    }
  ],
  "metadata": {
    "kernelspec": {
      "display_name": "Python 3",
      "name": "python3"
    },
    "language_info": {
      "codemirror_mode": {
        "name": "ipython",
        "version": 3
      },
      "file_extension": ".py",
      "mimetype": "text/x-python",
      "name": "python",
      "nbconvert_exporter": "python",
      "pygments_lexer": "ipython3",
      "version": "3.11.5"
    },
    "colab": {
      "provenance": [],
      "gpuType": "T4",
      "include_colab_link": true
    },
    "accelerator": "GPU"
  },
  "nbformat": 4,
  "nbformat_minor": 5
}