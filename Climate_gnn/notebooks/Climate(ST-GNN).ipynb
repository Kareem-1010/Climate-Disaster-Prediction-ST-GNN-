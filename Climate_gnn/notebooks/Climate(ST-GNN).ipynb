{
  "cells": [
    {
      "cell_type": "code",
      "execution_count": 2,
      "id": "c463a333-ebe7-4a65-8afd-66c0bf2cc775",
      "metadata": {
        "id": "c463a333-ebe7-4a65-8afd-66c0bf2cc775",
        "outputId": "109f587f-5d98-4ec8-a1f7-ac937f917d3c",
        "colab": {
          "base_uri": "https://localhost:8080/"
        }
      },
      "outputs": [
        {
          "output_type": "stream",
          "name": "stdout",
          "text": [
            "Mounted at /content/drive\n",
            "/bin/bash: line 1: nvidia-smi: command not found\n",
            "Python: 3.11.13 (main, Jun  4 2025, 08:57:29) [GCC 11.4.0]\n",
            "PyTorch: 2.6.0+cu124\n",
            "CUDA available: False\n",
            "Torch CUDA version: 12.4\n"
          ]
        }
      ],
      "source": [
        "# === Cell 1: Mount Drive & check GPU/PyTorch ===\n",
        "from google.colab import drive\n",
        "drive.mount('/content/drive')   # allow saving files to your Drive\n",
        "\n",
        "# quick system checks\n",
        "!nvidia-smi || true\n",
        "import torch, sys\n",
        "print(\"Python:\", sys.version.splitlines()[0])\n",
        "print(\"PyTorch:\", torch.__version__)\n",
        "print(\"CUDA available:\", torch.cuda.is_available())\n",
        "print(\"Torch CUDA version:\", torch.version.cuda)"
      ]
    },
    {
      "cell_type": "code",
      "source": [],
      "metadata": {
        "id": "eH1aoD6d0nx5"
      },
      "id": "eH1aoD6d0nx5",
      "execution_count": null,
      "outputs": []
    }
  ],
  "metadata": {
    "kernelspec": {
      "display_name": "Python 3 (ipykernel)",
      "language": "python",
      "name": "python3"
    },
    "language_info": {
      "codemirror_mode": {
        "name": "ipython",
        "version": 3
      },
      "file_extension": ".py",
      "mimetype": "text/x-python",
      "name": "python",
      "nbconvert_exporter": "python",
      "pygments_lexer": "ipython3",
      "version": "3.11.5"
    },
    "colab": {
      "provenance": []
    }
  },
  "nbformat": 4,
  "nbformat_minor": 5
}