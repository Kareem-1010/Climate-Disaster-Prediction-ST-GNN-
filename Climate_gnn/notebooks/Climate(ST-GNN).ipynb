{
  "cells": [
    {
      "cell_type": "markdown",
      "metadata": {
        "id": "view-in-github",
        "colab_type": "text"
      },
      "source": [
        "<a href=\"https://colab.research.google.com/github/Kareem-1010/Climate-Disaster-Prediction-ST-GNN-/blob/main/Climate_gnn/notebooks/Climate(ST-GNN).ipynb\" target=\"_parent\"><img src=\"https://colab.research.google.com/assets/colab-badge.svg\" alt=\"Open In Colab\"/></a>"
      ]
    },
    {
      "cell_type": "code",
      "execution_count": 1,
      "id": "c463a333-ebe7-4a65-8afd-66c0bf2cc775",
      "metadata": {
        "colab": {
          "base_uri": "https://localhost:8080/"
        },
        "id": "c463a333-ebe7-4a65-8afd-66c0bf2cc775",
        "outputId": "4532198f-e8b9-4af7-c151-aad15100fdd8"
      },
      "outputs": [
        {
          "output_type": "stream",
          "name": "stdout",
          "text": [
            "Mounted at /content/drive\n",
            "Wed Aug 13 06:45:57 2025       \n",
            "+-----------------------------------------------------------------------------------------+\n",
            "| NVIDIA-SMI 550.54.15              Driver Version: 550.54.15      CUDA Version: 12.4     |\n",
            "|-----------------------------------------+------------------------+----------------------+\n",
            "| GPU  Name                 Persistence-M | Bus-Id          Disp.A | Volatile Uncorr. ECC |\n",
            "| Fan  Temp   Perf          Pwr:Usage/Cap |           Memory-Usage | GPU-Util  Compute M. |\n",
            "|                                         |                        |               MIG M. |\n",
            "|=========================================+========================+======================|\n",
            "|   0  Tesla T4                       Off |   00000000:00:04.0 Off |                    0 |\n",
            "| N/A   35C    P8              9W /   70W |       0MiB /  15360MiB |      0%      Default |\n",
            "|                                         |                        |                  N/A |\n",
            "+-----------------------------------------+------------------------+----------------------+\n",
            "                                                                                         \n",
            "+-----------------------------------------------------------------------------------------+\n",
            "| Processes:                                                                              |\n",
            "|  GPU   GI   CI        PID   Type   Process name                              GPU Memory |\n",
            "|        ID   ID                                                               Usage      |\n",
            "|=========================================================================================|\n",
            "|  No running processes found                                                             |\n",
            "+-----------------------------------------------------------------------------------------+\n",
            "Python: 3.11.13 (main, Jun  4 2025, 08:57:29) [GCC 11.4.0]\n",
            "PyTorch: 2.6.0+cu124\n",
            "CUDA available: True\n",
            "Torch CUDA version: 12.4\n"
          ]
        }
      ],
      "source": [
        "from google.colab import drive\n",
        "drive.mount('/content/drive')   # allow saving files to your Drive\n",
        "!nvidia-smi || true\n",
        "import torch, sys\n",
        "print(\"Python:\", sys.version.splitlines()[0])\n",
        "print(\"PyTorch:\", torch.__version__)\n",
        "print(\"CUDA available:\", torch.cuda.is_available())\n",
        "print(\"Torch CUDA version:\", torch.version.cuda)"
      ]
    },
    {
      "cell_type": "code",
      "source": [
        "\n",
        "!pip install -q --upgrade pip\n",
        "!pip install -q xarray netCDF4 rioxarray pandas numpy scipy scikit-learn cdsapi pydap earthengine-api matplotlib cartopy\n",
        "# optional lighter geo libs if you need them later:\n",
        "!pip install -q rasterio rioxarray geopandas shapely"
      ],
      "metadata": {
        "colab": {
          "base_uri": "https://localhost:8080/"
        },
        "id": "eH1aoD6d0nx5",
        "outputId": "51e82bd1-fe55-4831-df48-1e2ca8488efa"
      },
      "id": "eH1aoD6d0nx5",
      "execution_count": 2,
      "outputs": [
        {
          "output_type": "stream",
          "name": "stdout",
          "text": [
            "\u001b[?25l   \u001b[90m━━━━━━━━━━━━━━━━━━━━━━━━━━━━━━━━━━━━━━━━\u001b[0m \u001b[32m0.0/1.8 MB\u001b[0m \u001b[31m?\u001b[0m eta \u001b[36m-:--:--\u001b[0m\r\u001b[2K   \u001b[90m━━━━━━━━━━━━━━━━━━━━━━━━━━━━━━━━━━━━━━━━\u001b[0m \u001b[32m1.8/1.8 MB\u001b[0m \u001b[31m63.8 MB/s\u001b[0m eta \u001b[36m0:00:00\u001b[0m\n",
            "\u001b[?25h"
          ]
        }
      ]
    },
    {
      "cell_type": "code",
      "source": [
        "import torch, sys\n",
        "torch_version = torch.__version__.split('+')[0]\n",
        "cuda_ver = torch.version.cuda\n",
        "print(\"Detected torch:\", torch_version, \"CUDA:\", cuda_ver)"
      ],
      "metadata": {
        "id": "K_l376q_7a0X",
        "outputId": "267d4200-5a23-4277-b65d-40223b1ba193",
        "colab": {
          "base_uri": "https://localhost:8080/"
        }
      },
      "id": "K_l376q_7a0X",
      "execution_count": 3,
      "outputs": [
        {
          "output_type": "stream",
          "name": "stdout",
          "text": [
            "Detected torch: 2.6.0 CUDA: 12.4\n"
          ]
        }
      ]
    },
    {
      "cell_type": "code",
      "source": [
        "import sys, subprocess, importlib, traceback\n",
        "\n",
        "def run(cmd):\n",
        "    print(\"RUN:\", \" \".join(cmd))\n",
        "    return subprocess.check_call(cmd)\n",
        "\n",
        "try:\n",
        "    import torch\n",
        "    torch_version = torch.__version__.split('+')[0]\n",
        "    cuda = torch.version.cuda\n",
        "    if cuda is None:\n",
        "        cuda_tag = \"cpu\"\n",
        "    else:\n",
        "        cuda_tag = \"cu\" + cuda.replace('.', '')\n",
        "    index_url = f\"https://data.pyg.org/whl/torch-{torch_version}+{cuda_tag}.html\"\n",
        "    print(\"Using PyG index:\", index_url)\n",
        "    run([sys.executable, \"-m\", \"pip\", \"install\", \"--quiet\", \"torch-scatter\", \"-f\", index_url])\n",
        "    run([sys.executable, \"-m\", \"pip\", \"install\", \"--quiet\", \"torch-sparse\", \"-f\", index_url])\n",
        "    run([sys.executable, \"-m\", \"pip\", \"install\", \"--quiet\", \"torch-cluster\", \"-f\", index_url])\n",
        "    run([sys.executable, \"-m\", \"pip\", \"install\", \"--quiet\", \"torch-spline-conv\", \"-f\", index_url])\n",
        "    run([sys.executable, \"-m\", \"pip\", \"install\", \"--quiet\", \"torch-geometric\", \"-f\", index_url])\n",
        "\n",
        "    import torch_geometric\n",
        "    print(\"torch_geometric version:\", torch_geometric.__version__)\n",
        "except Exception as e:\n",
        "    print(\"Automatic PyG install failed. Error:\")\n",
        "    traceback.print_exc()\n",
        "    print(\"\\nFALLBACK: If PyG install fails, you can either:\\n\"\n",
        "          \"- Try again after restarting the runtime (sometimes helps)\\n\"\n",
        "          \"- Use DGL instead for GNN experiments: `pip install dgl` (simpler install)\\n\"\n",
        "          \"- Or run the notebook on a local machine or Colab Pro where matching wheels exist.\")"
      ],
      "metadata": {
        "id": "fndnA3CN7uXj",
        "outputId": "272448f7-2f99-47ec-b9fc-8cbcb8ee3dac",
        "colab": {
          "base_uri": "https://localhost:8080/"
        }
      },
      "id": "fndnA3CN7uXj",
      "execution_count": 4,
      "outputs": [
        {
          "output_type": "stream",
          "name": "stdout",
          "text": [
            "Using PyG index: https://data.pyg.org/whl/torch-2.6.0+cu124.html\n",
            "RUN: /usr/bin/python3 -m pip install --quiet torch-scatter -f https://data.pyg.org/whl/torch-2.6.0+cu124.html\n",
            "RUN: /usr/bin/python3 -m pip install --quiet torch-sparse -f https://data.pyg.org/whl/torch-2.6.0+cu124.html\n",
            "RUN: /usr/bin/python3 -m pip install --quiet torch-cluster -f https://data.pyg.org/whl/torch-2.6.0+cu124.html\n",
            "RUN: /usr/bin/python3 -m pip install --quiet torch-spline-conv -f https://data.pyg.org/whl/torch-2.6.0+cu124.html\n",
            "RUN: /usr/bin/python3 -m pip install --quiet torch-geometric -f https://data.pyg.org/whl/torch-2.6.0+cu124.html\n",
            "torch_geometric version: 2.6.1\n"
          ]
        }
      ]
    },
    {
      "cell_type": "code",
      "source": [
        "from google.colab import auth\n",
        "auth.authenticate_user()\n",
        "\n",
        "import ee\n",
        "ee.Authenticate()\n",
        "ee.Initialize(project='climate-disaster-prediction')\n",
        "print(\"Earth Engine initialized:\", ee.data._initialized)"
      ],
      "metadata": {
        "id": "0fvBh8y275Zt",
        "outputId": "8985f08c-7b6f-4de1-cd66-6b7622e6bd54",
        "colab": {
          "base_uri": "https://localhost:8080/"
        }
      },
      "id": "0fvBh8y275Zt",
      "execution_count": 6,
      "outputs": [
        {
          "output_type": "stream",
          "name": "stdout",
          "text": [
            "Earth Engine initialized: True\n"
          ]
        }
      ]
    },
    {
      "cell_type": "code",
      "source": [
        "cds_key = input(\"Paste your CDS key in format <uid>:<key>  (press Enter when done): \").strip()\n",
        "cds_path = \"/root/.cdsapirc\"\n",
        "with open(cds_path, \"w\") as f:\n",
        "    f.write(\"url: https://cds.climate.copernicus.eu/api/v2\\n\")\n",
        "    f.write(f\"key: {cds_key}\\n\")\n",
        "print(\"Wrote CDS API config to\", cds_path)"
      ],
      "metadata": {
        "id": "j3SHUj-ALsro",
        "outputId": "8db9ae07-c470-41f7-c1e5-cba7fcc49da4",
        "colab": {
          "base_uri": "https://localhost:8080/"
        }
      },
      "id": "j3SHUj-ALsro",
      "execution_count": 9,
      "outputs": [
        {
          "output_type": "stream",
          "name": "stdout",
          "text": [
            "Paste your CDS key in format <uid>:<key>  (press Enter when done): 7b91d193-cd72-43c5-91bc-9ddd989f61b0:4a94b0bd-8861-4c55-ade8-11398dfac642\n",
            "Wrote CDS API config to /root/.cdsapirc\n"
          ]
        }
      ]
    },
    {
      "cell_type": "code",
      "source": [],
      "metadata": {
        "id": "H2A1-V2pRwg3"
      },
      "id": "H2A1-V2pRwg3",
      "execution_count": 10,
      "outputs": []
    },
    {
      "cell_type": "code",
      "source": [],
      "metadata": {
        "id": "Cgb0Rqs8SZLY"
      },
      "id": "Cgb0Rqs8SZLY",
      "execution_count": null,
      "outputs": []
    }
  ],
  "metadata": {
    "kernelspec": {
      "display_name": "Python 3",
      "name": "python3"
    },
    "language_info": {
      "codemirror_mode": {
        "name": "ipython",
        "version": 3
      },
      "file_extension": ".py",
      "mimetype": "text/x-python",
      "name": "python",
      "nbconvert_exporter": "python",
      "pygments_lexer": "ipython3",
      "version": "3.11.5"
    },
    "colab": {
      "provenance": [],
      "gpuType": "T4",
      "include_colab_link": true
    },
    "accelerator": "GPU"
  },
  "nbformat": 4,
  "nbformat_minor": 5
}